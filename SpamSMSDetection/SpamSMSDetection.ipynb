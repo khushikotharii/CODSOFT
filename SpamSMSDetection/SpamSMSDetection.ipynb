{
  "nbformat": 4,
  "nbformat_minor": 0,
  "metadata": {
    "colab": {
      "provenance": []
    },
    "kernelspec": {
      "name": "python3",
      "display_name": "Python 3"
    },
    "language_info": {
      "name": "python"
    }
  },
  "cells": [
    {
      "cell_type": "code",
      "execution_count": null,
      "metadata": {
        "id": "nlsjgFEG49eD"
      },
      "outputs": [],
      "source": [
        "import pandas as pd\n",
        "from sklearn.feature_extraction.text import TfidfVectorizer\n",
        "from sklearn.model_selection import train_test_split\n",
        "from sklearn.naive_bayes import MultinomialNB\n",
        "from sklearn.metrics import accuracy_score, classification_report"
      ]
    },
    {
      "cell_type": "markdown",
      "source": [
        "**Loading the Dataset**"
      ],
      "metadata": {
        "id": "di0I1-UHxI6X"
      }
    },
    {
      "cell_type": "code",
      "source": [
        "data = pd.read_csv('/content/spam.csv',  encoding='latin-1')\n",
        "x = data['v2']\n",
        "y = data['v1']"
      ],
      "metadata": {
        "id": "8hIpjwKO5P8l"
      },
      "execution_count": null,
      "outputs": []
    },
    {
      "cell_type": "markdown",
      "source": [
        "**Pre Processing Data**"
      ],
      "metadata": {
        "id": "WdDqd115U00p"
      }
    },
    {
      "cell_type": "code",
      "source": [
        "y = y.map({'ham': 0, 'spam': 1})"
      ],
      "metadata": {
        "id": "znEQxiWY5ouq"
      },
      "execution_count": null,
      "outputs": []
    },
    {
      "cell_type": "markdown",
      "source": [
        "*Splitting the Dataset into Training Data & Test Data*\n",
        "\n",
        "\n",
        "\n",
        "\n",
        "\n",
        "\n",
        "\n",
        "\n"
      ],
      "metadata": {
        "id": "Nb99_FZtRcCx"
      }
    },
    {
      "cell_type": "code",
      "source": [
        "X_train, X_test, y_train, y_test = train_test_split(x, y, test_size=0.2, random_state=42)  #Test Data = 20%"
      ],
      "metadata": {
        "id": "MjQ6oHp46wX4"
      },
      "execution_count": null,
      "outputs": []
    },
    {
      "cell_type": "markdown",
      "source": [
        "*TF-IDF Vectorization*"
      ],
      "metadata": {
        "id": "KmFYabdSR0B2"
      }
    },
    {
      "cell_type": "code",
      "source": [
        "tfidf_vectorizer = TfidfVectorizer(stop_words='english')\n",
        "X_train_tfidf = tfidf_vectorizer.fit_transform(X_train)"
      ],
      "metadata": {
        "id": "UA3O0Rdl64ZK"
      },
      "execution_count": null,
      "outputs": []
    },
    {
      "cell_type": "code",
      "source": [
        "X_test_tfidf = tfidf_vectorizer.transform(X_test)"
      ],
      "metadata": {
        "id": "bsMxiQRa7Ego"
      },
      "execution_count": null,
      "outputs": []
    },
    {
      "cell_type": "markdown",
      "source": [
        "**Using Naive Bayes Classification**"
      ],
      "metadata": {
        "id": "hi6LnMHgRFW2"
      }
    },
    {
      "cell_type": "code",
      "source": [
        "nb_classifier = MultinomialNB()\n",
        "nb_classifier.fit(X_train_tfidf, y_train)\n",
        "y_pred = nb_classifier.predict(X_test_tfidf)\n",
        "\n",
        "# Calculating accuracy\n",
        "accuracy_nb = accuracy_score(y_test, y_pred)\n",
        "print(\"Naive Bayes Accuracy:\", accuracy_nb)\n",
        "\n",
        "# Classification report\n",
        "print(\"\\nClassification Report:\")\n",
        "print(classification_report(y_test, y_pred))"
      ],
      "metadata": {
        "colab": {
          "base_uri": "https://localhost:8080/"
        },
        "id": "6mlfHm3f8CvX",
        "outputId": "ca89bcee-c62c-4b34-deb7-ed9f1c03c662"
      },
      "execution_count": null,
      "outputs": [
        {
          "output_type": "stream",
          "name": "stdout",
          "text": [
            "Naive Bayes Accuracy: 0.9668161434977578\n",
            "\n",
            "Classification Report:\n",
            "              precision    recall  f1-score   support\n",
            "\n",
            "           0       0.96      1.00      0.98       965\n",
            "           1       1.00      0.75      0.86       150\n",
            "\n",
            "    accuracy                           0.97      1115\n",
            "   macro avg       0.98      0.88      0.92      1115\n",
            "weighted avg       0.97      0.97      0.96      1115\n",
            "\n"
          ]
        }
      ]
    },
    {
      "cell_type": "markdown",
      "source": [
        "**Using Logistic Regression**"
      ],
      "metadata": {
        "id": "QEH3RmH9R5qL"
      }
    },
    {
      "cell_type": "code",
      "source": [
        "from sklearn.linear_model import LogisticRegression\n",
        "\n",
        "logreg_classifier = LogisticRegression()\n",
        "logreg_classifier.fit(X_train_tfidf, y_train)\n",
        "\n",
        "y_pred_logreg = logreg_classifier.predict(X_test_tfidf)\n",
        "\n",
        "# Calculating Accuracy\n",
        "accuracy_logreg = accuracy_score(y_test, y_pred_logreg)\n",
        "print(\"Logistic Regression Accuracy:\", accuracy_logreg)\n",
        "\n",
        "# Classification report\n",
        "print(\"\\nClassification Report:\")\n",
        "print(classification_report(y_test, y_pred_logreg))\n"
      ],
      "metadata": {
        "colab": {
          "base_uri": "https://localhost:8080/"
        },
        "id": "IMoAkDEaxC5l",
        "outputId": "9c151634-d95c-4d9d-fbd6-e03ea6181e7d"
      },
      "execution_count": null,
      "outputs": [
        {
          "output_type": "stream",
          "name": "stdout",
          "text": [
            "Logistic Regression Accuracy: 0.9524663677130045\n",
            "\n",
            "Classification Report:\n",
            "              precision    recall  f1-score   support\n",
            "\n",
            "           0       0.95      1.00      0.97       965\n",
            "           1       0.97      0.67      0.79       150\n",
            "\n",
            "    accuracy                           0.95      1115\n",
            "   macro avg       0.96      0.83      0.88      1115\n",
            "weighted avg       0.95      0.95      0.95      1115\n",
            "\n"
          ]
        }
      ]
    },
    {
      "cell_type": "code",
      "source": [
        "print('Naive Bayes is better than Logistic Regression as its accuracy, precision, recall, and F1 score are higher.')"
      ],
      "metadata": {
        "colab": {
          "base_uri": "https://localhost:8080/"
        },
        "id": "F5zEB-0ZSmLF",
        "outputId": "84fe9ffd-b3ee-4edd-efc3-0ca74643276d"
      },
      "execution_count": null,
      "outputs": [
        {
          "output_type": "stream",
          "name": "stdout",
          "text": [
            "Naive Bayes is better than Logistic Regression as its accuracy, precision, recall, and F1 score are higher.\n"
          ]
        }
      ]
    }
  ]
}